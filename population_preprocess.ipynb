{
 "cells": [
  {
   "cell_type": "code",
   "execution_count": 8,
   "metadata": {},
   "outputs": [],
   "source": [
    "import pandas as pd\n",
    "import re\n",
    "\n",
    "# Define the normalize_string function\n",
    "def normalize_string(s):\n",
    "    if pd.isna(s):\n",
    "        return s\n",
    "    s = s.lower()\n",
    "    s = re.sub(r'[^a-zа-я0-9\\s]', '', s)\n",
    "    s = re.sub(r'\\s+', ' ', s)\n",
    "    return s.strip()\n",
    "\n",
    "# Load the CSV file\n",
    "df = pd.read_csv('./additional_data/city_population.csv')\n",
    "\n",
    "# Create the key column by concatenating settlement and region\n",
    "df['key'] = df.apply(lambda x: normalize_string(x['settlement']) + ' ' + normalize_string(x['region']), axis=1)\n",
    "\n",
    "# Keep only necessary columns\n",
    "df = df[['id', 'key', 'population']]\n",
    "\n",
    "# Convert population to numeric, coerce errors to NaN and fill NaNs with 0\n",
    "df['population'] = pd.to_numeric(df['population'], errors='coerce').fillna(0)\n",
    "\n",
    "# Group by key and keep the row with the largest population\n",
    "df = df.loc[df.groupby('key')['population'].idxmax()]\n",
    "\n",
    "# Reset index\n",
    "df.reset_index(drop=True, inplace=True)\n",
    "\n",
    "# Save the cleaned dataframe to a new CSV file\n",
    "df.to_csv('cleaned_population.csv', index=False)\n"
   ]
  }
 ],
 "metadata": {
  "kernelspec": {
   "display_name": "Python 3",
   "language": "python",
   "name": "python3"
  },
  "language_info": {
   "codemirror_mode": {
    "name": "ipython",
    "version": 3
   },
   "file_extension": ".py",
   "mimetype": "text/x-python",
   "name": "python",
   "nbconvert_exporter": "python",
   "pygments_lexer": "ipython3",
   "version": "3.11.8"
  }
 },
 "nbformat": 4,
 "nbformat_minor": 2
}
